{
 "cells": [
  {
   "cell_type": "markdown",
   "metadata": {},
   "source": [
    "<br><br>\n",
    "# Case 2: Diabetic retinopathy\n",
    "\n",
    "### Juha Nuutinen\n",
    "\n",
    "### 13.02.2019\n",
    "\n",
    "### Helsinki Metropolia University of Applied Sciences\n",
    "<br><br>\n",
    "\n",
    "# 1. Objectives\n",
    "This notebook documents the process of using a convolutional neural network to detect the presence of diabetic retinopathy from images of the back of the eye (fundus photography). The goal for this assignment is to learn to use convolutional neural networks to classify medical images.\n",
    "\n",
    "# 2. Required Libraries"
   ]
  },
  {
   "cell_type": "code",
   "execution_count": 1,
   "metadata": {},
   "outputs": [
    {
     "name": "stderr",
     "output_type": "stream",
     "text": [
      "Using TensorFlow backend.\n"
     ]
    }
   ],
   "source": [
    "# Required libraries\n",
    "import numpy as np\n",
    "import matplotlib.pyplot as plt\n",
    "import keras\n",
    "from keras import layers\n",
    "from keras import models\n",
    "\n",
    "%matplotlib inline\n",
    "\n",
    "from keras import optimizers\n",
    "from keras.preprocessing.image import ImageDataGenerator"
   ]
  },
  {
   "cell_type": "markdown",
   "metadata": {},
   "source": [
    "# 3. Data\n",
    "\n",
    "### Origin\n",
    "\n",
    "In 2015, California Health Foundation together with eyePacs announced the open [Kaggle competition for detecting diabetic retinopathy](https://www.kaggle.com/c/diabetic-retinopathy-detection). The competition opened a very large dataset of [fundus photography](https://en.wikipedia.org/wiki/Fundus_photography), provided by eyePacs. For this assignment, a [curated and smaller dataset](https://github.com/Nomikxyz/retinopathy-dataset) derived from the original is used.\n",
    "\n",
    "### Description\n",
    "\n",
    "The dataset contains a total of 2062 color JPEG images, and is about 2.1 GB in size. The images are rather large, with height and width varying between 2000-5000 pixels. They are divided into two directories: <i>symptoms</i> and <i>nosymptoms</i>.\n",
    "\n",
    "### Preprocessing\n",
    "\n",
    "#### Data splitting\n",
    "keras' `ImageDataGenerator` will be used to handle the feeding of image batches for training the model. Loading all the training images to memory would be a waste of resources. The first step is to create a directory structure as follows:\n",
    "\n",
    "```\n",
    "case_2/\n",
    "    nuutinen_case_2_retinopathy.ipynb\n",
    "    Week 4. Create directories.ipynb\n",
    "    retinopathy-dataset-master/\n",
    "        nosymptoms/\n",
    "        symptoms/\n",
    "    dataset2/\n",
    "        test/\n",
    "            nosymptoms/\n",
    "            symptoms/\n",
    "        train/\n",
    "            nosymptoms/\n",
    "            symptoms/\n",
    "        validation/\n",
    "            nosymptoms/\n",
    "            symptoms/\n",
    "```\n",
    "The notebook `Week 4. Create directories.ipynb` (by Sakari Lukkarinen & Juha Kopu, [Helsinki Metropolia University of Applied Sciences](http://metropolia.fi/en)) handles the creation of the above directory structure, splitting the data into training (50%), validation (25%) and test (25%) sets, and copying them to the corresponding directories. When the data is split into directories, using the image generators becomes very straight forward. The data splitting is done using scikit-learn's `train_test_split` function.\n",
    "\n",
    "From now on, it is assumed that all the code in `Week 4. Create directories.ipynb` has been run, i.e. the above directory structure exists and the images have been copied to correspondig directories. The directory and file manipulation code is kept in a separate notebook for the sake of brevity.\n",
    "\n",
    "#### Creating the image generators\n",
    "The code cell below is a modified excerpt from Lukkarinen's and Kopu's notebook [here](https://github.com/sakluk/cognitive-systems-for-health-technology/blob/master/Week%204.%20Case%202%20-%20First%20trial.ipynb)."
   ]
  },
  {
   "cell_type": "code",
   "execution_count": 2,
   "metadata": {},
   "outputs": [
    {
     "name": "stdout",
     "output_type": "stream",
     "text": [
      "Training set: Found 1031 images belonging to 2 classes.\n",
      "Validation set: Found 516 images belonging to 2 classes.\n"
     ]
    }
   ],
   "source": [
    "train_dir = \"./dataset2/train\"\n",
    "validation_dir = \"./dataset2/validation\"\n",
    "\n",
    "# All images will be rescaled by 1./255\n",
    "train_datagen = ImageDataGenerator(rescale=1./255)\n",
    "test_datagen = ImageDataGenerator(rescale=1./255)\n",
    "\n",
    "print(\"Training set: \", end='')\n",
    "train_generator = train_datagen.flow_from_directory(\n",
    "    # This is the target directory\n",
    "    train_dir,\n",
    "    # All images will be resized to 150x150\n",
    "    target_size=(150, 150),\n",
    "\n",
    "    # We read images in batches\n",
    "    batch_size=64,\n",
    "    \n",
    "    # Since we use binary_crossentropy loss, we need binary labels\n",
    "    class_mode='binary')\n",
    "\n",
    "print(\"Validation set: \", end='')\n",
    "validation_generator = test_datagen.flow_from_directory(\n",
    "        validation_dir,\n",
    "        target_size=(150, 150),\n",
    "        batch_size=64,\n",
    "        class_mode='binary')"
   ]
  },
  {
   "cell_type": "markdown",
   "metadata": {},
   "source": [
    "# 4. Modeling and compilation"
   ]
  },
  {
   "cell_type": "code",
   "execution_count": 3,
   "metadata": {},
   "outputs": [
    {
     "name": "stdout",
     "output_type": "stream",
     "text": [
      "_________________________________________________________________\n",
      "Layer (type)                 Output Shape              Param #   \n",
      "=================================================================\n",
      "conv2d_1 (Conv2D)            (None, 148, 148, 80)      2240      \n",
      "_________________________________________________________________\n",
      "max_pooling2d_1 (MaxPooling2 (None, 74, 74, 80)        0         \n",
      "_________________________________________________________________\n",
      "conv2d_2 (Conv2D)            (None, 72, 72, 80)        57680     \n",
      "_________________________________________________________________\n",
      "max_pooling2d_2 (MaxPooling2 (None, 36, 36, 80)        0         \n",
      "_________________________________________________________________\n",
      "conv2d_3 (Conv2D)            (None, 34, 34, 80)        57680     \n",
      "_________________________________________________________________\n",
      "max_pooling2d_3 (MaxPooling2 (None, 17, 17, 80)        0         \n",
      "_________________________________________________________________\n",
      "flatten_1 (Flatten)          (None, 23120)             0         \n",
      "_________________________________________________________________\n",
      "dense_1 (Dense)              (None, 512)               11837952  \n",
      "_________________________________________________________________\n",
      "dense_2 (Dense)              (None, 1)                 513       \n",
      "=================================================================\n",
      "Total params: 11,956,065\n",
      "Trainable params: 11,956,065\n",
      "Non-trainable params: 0\n",
      "_________________________________________________________________\n"
     ]
    }
   ],
   "source": [
    "model = models.Sequential()\n",
    "model.add(layers.Conv2D(80, (3, 3), activation='relu', input_shape=(150, 150, 3)))\n",
    "model.add(layers.MaxPooling2D((2, 2)))\n",
    "model.add(layers.Conv2D(80, (3, 3), activation='relu'))\n",
    "model.add(layers.MaxPooling2D((2, 2)))\n",
    "model.add(layers.Conv2D(80, (3, 3), activation='relu'))\n",
    "model.add(layers.MaxPooling2D((2, 2)))\n",
    "model.add(layers.Flatten())\n",
    "model.add(layers.Dense(512, activation='relu'))\n",
    "model.add(layers.Dense(1, activation='sigmoid'))\n",
    "\n",
    "model.summary()\n",
    "\n",
    "model.compile(loss='binary_crossentropy',\n",
    "              optimizer='adam',\n",
    "              metrics=['acc'])"
   ]
  },
  {
   "cell_type": "markdown",
   "metadata": {},
   "source": [
    "# 5. Training and and validation"
   ]
  },
  {
   "cell_type": "code",
   "execution_count": 4,
   "metadata": {},
   "outputs": [
    {
     "name": "stdout",
     "output_type": "stream",
     "text": [
      "Epoch 1/10\n",
      "30/30 [==============================] - 169s 6s/step - loss: 0.6169 - acc: 0.7086 - val_loss: 0.5293 - val_acc: 0.7155\n",
      "Epoch 2/10\n",
      "30/30 [==============================] - 159s 5s/step - loss: 0.4913 - acc: 0.7554 - val_loss: 0.5047 - val_acc: 0.7293\n",
      "Epoch 3/10\n",
      "30/30 [==============================] - 158s 5s/step - loss: 0.4678 - acc: 0.7660 - val_loss: 0.5154 - val_acc: 0.7448\n",
      "Epoch 4/10\n",
      "30/30 [==============================] - 160s 5s/step - loss: 0.4356 - acc: 0.7909 - val_loss: 0.4795 - val_acc: 0.7707\n",
      "Epoch 5/10\n",
      "30/30 [==============================] - 164s 5s/step - loss: 0.4104 - acc: 0.7947 - val_loss: 0.4897 - val_acc: 0.7638\n",
      "Epoch 6/10\n",
      "30/30 [==============================] - 159s 5s/step - loss: 0.4119 - acc: 0.7862 - val_loss: 0.4959 - val_acc: 0.7707\n",
      "Epoch 7/10\n",
      "30/30 [==============================] - 159s 5s/step - loss: 0.3861 - acc: 0.8190 - val_loss: 0.4914 - val_acc: 0.7483\n",
      "Epoch 8/10\n",
      "30/30 [==============================] - 159s 5s/step - loss: 0.3759 - acc: 0.8165 - val_loss: 0.5136 - val_acc: 0.7534\n",
      "Epoch 9/10\n",
      "30/30 [==============================] - 164s 5s/step - loss: 0.3580 - acc: 0.8249 - val_loss: 0.5106 - val_acc: 0.7615\n",
      "Epoch 10/10\n",
      "30/30 [==============================] - 159s 5s/step - loss: 0.3197 - acc: 0.8440 - val_loss: 0.5432 - val_acc: 0.7586\n"
     ]
    }
   ],
   "source": [
    "# Our first trial is to read only 10 batches per epoch (10x16 = 160 images per epoch)\n",
    "# and run only 5 epochs\n",
    "history = model.fit_generator(\n",
    "      train_generator,\n",
    "      steps_per_epoch = 30,\n",
    "      verbose = 1,\n",
    "      epochs = 10,\n",
    "      validation_data = validation_generator,\n",
    "      validation_steps = 10)\n",
    "\n",
    "# Save the model\n",
    "model.save('case_2_run_1.h5')"
   ]
  },
  {
   "cell_type": "markdown",
   "metadata": {},
   "source": [
    "# 5. Results"
   ]
  },
  {
   "cell_type": "code",
   "execution_count": 5,
   "metadata": {},
   "outputs": [
    {
     "data": {
      "image/png": "[encoded data removed]",
      "text/plain": [
       "<Figure size 432x288 with 1 Axes>"
      ]
     },
     "metadata": {
      "needs_background": "light"
     },
     "output_type": "display_data"
    },
    {
     "data": {
      "image/png": "[encoded data removed]",
      "text/plain": [
       "<Figure size 432x288 with 1 Axes>"
      ]
     },
     "metadata": {
      "needs_background": "light"
     },
     "output_type": "display_data"
    }
   ],
   "source": [
    "acc = history.history['acc']\n",
    "val_acc = history.history['val_acc']\n",
    "loss = history.history['loss']\n",
    "val_loss = history.history['val_loss']\n",
    "\n",
    "epochs = range(len(acc))\n",
    "\n",
    "plt.plot(epochs, acc, 'bo', label='Training acc')\n",
    "plt.plot(epochs, val_acc, 'b', label='Validation acc')\n",
    "plt.title('Training and validation accuracy')\n",
    "plt.legend()\n",
    "\n",
    "plt.figure()\n",
    "\n",
    "plt.plot(epochs, loss, 'bo', label='Training loss')\n",
    "plt.plot(epochs, val_loss, 'b', label='Validation loss')\n",
    "plt.title('Training and validation loss')\n",
    "plt.legend()\n",
    "\n",
    "plt.show()"
   ]
  },
  {
   "cell_type": "code",
   "execution_count": null,
   "metadata": {},
   "outputs": [],
   "source": []
  }
 ],
 "metadata": {
  "kernelspec": {
   "display_name": "Python 3",
   "language": "python",
   "name": "python3"
  },
  "language_info": {
   "codemirror_mode": {
    "name": "ipython",
    "version": 3
   },
   "file_extension": ".py",
   "mimetype": "text/x-python",
   "name": "python",
   "nbconvert_exporter": "python",
   "pygments_lexer": "ipython3",
   "version": "3.6.7"
  }
 },
 "nbformat": 4,
 "nbformat_minor": 2
}
