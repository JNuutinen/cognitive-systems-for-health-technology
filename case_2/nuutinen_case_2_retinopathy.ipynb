{
 "cells": [
  {
   "cell_type": "markdown",
   "metadata": {},
   "source": [
    "<br><br>\n",
    "# Case 2: Diabetic retinopathy\n",
    "\n",
    "### Juha Nuutinen\n",
    "\n",
    "### 01.03.2019\n",
    "\n",
    "### Helsinki Metropolia University of Applied Sciences\n",
    "<br><br>\n",
    "\n",
    "# 1. Objectives\n",
    "This notebook documents the process of using a convolutional neural network to detect the presence of diabetic retinopathy from images of the back of the eye (fundus photography). The goal for this assignment is to learn to use convolutional neural networks to classify medical images.\n",
    "\n",
    "# 2. Required Libraries"
   ]
  },
  {
   "cell_type": "code",
   "execution_count": 18,
   "metadata": {},
   "outputs": [],
   "source": [
    "# Required libraries\n",
    "import numpy as np\n",
    "import matplotlib.pyplot as plt\n",
    "import keras\n",
    "from keras import layers\n",
    "from keras import models\n",
    "\n",
    "%matplotlib inline\n",
    "\n",
    "from keras import optimizers\n",
    "from keras.preprocessing.image import ImageDataGenerator\n",
    "\n",
    "from sklearn.metrics import confusion_matrix, cohen_kappa_score, classification_report\n",
    "from sklearn.metrics import accuracy_score, roc_curve"
   ]
  },
  {
   "cell_type": "markdown",
   "metadata": {},
   "source": [
    "# 3. Data\n",
    "\n",
    "### Origin\n",
    "\n",
    "In 2015, California Health Foundation together with eyePacs announced the open [Kaggle competition for detecting diabetic retinopathy](https://www.kaggle.com/c/diabetic-retinopathy-detection). The competition opened a very large dataset of [fundus photography](https://en.wikipedia.org/wiki/Fundus_photography), provided by eyePacs. For this assignment, a [curated and smaller dataset](https://github.com/Nomikxyz/retinopathy-dataset) derived from the original is used.\n",
    "\n",
    "### Description\n",
    "\n",
    "The dataset contains a total of 2062 color JPEG images, and is about 2.1 GB in size. The images are rather large, with height and width varying between 2000-5000 pixels. They are divided into two directories: <i>symptoms</i> and <i>nosymptoms</i>.\n",
    "\n",
    "### Preprocessing\n",
    "\n",
    "#### Data splitting\n",
    "keras' `ImageDataGenerator` will be used to handle the feeding of image batches for training the model. Loading all the training images to memory would not be possible on my machine. The first step is to create a directory structure as follows:\n",
    "\n",
    "```\n",
    "case_2/\n",
    "    nuutinen_case_2_retinopathy.ipynb\n",
    "    Week 4. Create directories.ipynb\n",
    "    retinopathy-dataset-master/\n",
    "        nosymptoms/\n",
    "        symptoms/\n",
    "    dataset2/\n",
    "        test/\n",
    "            nosymptoms/\n",
    "            symptoms/\n",
    "        train/\n",
    "            nosymptoms/\n",
    "            symptoms/\n",
    "        validation/\n",
    "            nosymptoms/\n",
    "            symptoms/\n",
    "```\n",
    "The notebook `Week 4. Create directories.ipynb` (by Sakari Lukkarinen & Juha Kopu, [Helsinki Metropolia University of Applied Sciences](http://metropolia.fi/en)) handles the creation of the above directory structure, splitting the data into training (50%), validation (25%) and test (25%) sets, and copying them to the corresponding directories. When the data is split into directories, using the image generators becomes very straight forward. The data splitting is done using scikit-learn's `train_test_split` function.\n",
    "\n",
    "From now on, it is assumed that all the code in `Week 4. Create directories.ipynb` has been run, i.e. the above directory structure exists and the images have been copied to correspondig directories. The directory and file manipulation code is kept in a separate notebook for the sake of brevity.\n",
    "\n",
    "#### Creating the image generators\n",
    "The code cell below is a modified excerpt from Lukkarinen's and Kopu's notebook [here](https://github.com/sakluk/cognitive-systems-for-health-technology/blob/master/Week%204.%20Case%202%20-%20First%20trial.ipynb).\n",
    "\n",
    "The following cell also defines the augmentations for the training and validation data."
   ]
  },
  {
   "cell_type": "code",
   "execution_count": 2,
   "metadata": {},
   "outputs": [
    {
     "name": "stdout",
     "output_type": "stream",
     "text": [
      "Training set: Found 1031 images belonging to 2 classes.\n",
      "Validation set: Found 516 images belonging to 2 classes.\n"
     ]
    }
   ],
   "source": [
    "train_dir = \"./dataset2/train\"\n",
    "validation_dir = \"./dataset2/validation\"\n",
    "\n",
    "# Zoom, rotation and shear for training data\n",
    "train_datagen = ImageDataGenerator(\n",
    "    rescale=1./255,\n",
    "    zoom_range=0.1,\n",
    "    rotation_range=360,\n",
    "    shear_range=0.2)\n",
    "\n",
    "# Only rotation for validation data\n",
    "test_datagen = ImageDataGenerator(\n",
    "    rescale=1./255,\n",
    "    rotation_range=360)\n",
    "\n",
    "print(\"Training set: \", end='')\n",
    "train_generator = train_datagen.flow_from_directory(\n",
    "    train_dir,\n",
    "    target_size=(256, 256),\n",
    "    batch_size=16,\n",
    "    class_mode='binary')\n",
    "\n",
    "print(\"Validation set: \", end='')\n",
    "validation_generator = test_datagen.flow_from_directory(\n",
    "    validation_dir,\n",
    "    target_size=(256, 256),\n",
    "    batch_size=16,\n",
    "    class_mode='binary')"
   ]
  },
  {
   "cell_type": "markdown",
   "metadata": {},
   "source": [
    "# 4. Modeling and compilation"
   ]
  },
  {
   "cell_type": "code",
   "execution_count": 3,
   "metadata": {},
   "outputs": [
    {
     "name": "stdout",
     "output_type": "stream",
     "text": [
      "_________________________________________________________________\n",
      "Layer (type)                 Output Shape              Param #   \n",
      "=================================================================\n",
      "conv2d_1 (Conv2D)            (None, 254, 254, 52)      1456      \n",
      "_________________________________________________________________\n",
      "conv2d_2 (Conv2D)            (None, 252, 252, 52)      24388     \n",
      "_________________________________________________________________\n",
      "max_pooling2d_1 (MaxPooling2 (None, 126, 126, 52)      0         \n",
      "_________________________________________________________________\n",
      "conv2d_3 (Conv2D)            (None, 124, 124, 52)      24388     \n",
      "_________________________________________________________________\n",
      "conv2d_4 (Conv2D)            (None, 122, 122, 52)      24388     \n",
      "_________________________________________________________________\n",
      "max_pooling2d_2 (MaxPooling2 (None, 61, 61, 52)        0         \n",
      "_________________________________________________________________\n",
      "flatten_1 (Flatten)          (None, 193492)            0         \n",
      "_________________________________________________________________\n",
      "dense_1 (Dense)              (None, 512)               99068416  \n",
      "_________________________________________________________________\n",
      "dropout_1 (Dropout)          (None, 512)               0         \n",
      "_________________________________________________________________\n",
      "dense_2 (Dense)              (None, 256)               131328    \n",
      "_________________________________________________________________\n",
      "dense_3 (Dense)              (None, 1)                 257       \n",
      "=================================================================\n",
      "Total params: 99,274,621\n",
      "Trainable params: 99,274,621\n",
      "Non-trainable params: 0\n",
      "_________________________________________________________________\n"
     ]
    }
   ],
   "source": [
    "def create_model():\n",
    "    model = models.Sequential()\n",
    "    model.add(layers.Conv2D(52, (3, 3), activation='relu', input_shape=(256, 256, 3)))\n",
    "    model.add(layers.Conv2D(52, (3, 3), activation='relu'))\n",
    "    model.add(layers.MaxPooling2D((2, 2)))\n",
    "    model.add(layers.Conv2D(52, (3, 3), activation='relu'))\n",
    "    model.add(layers.Conv2D(52, (3, 3), activation='relu'))\n",
    "    model.add(layers.MaxPooling2D((2, 2)))\n",
    "    model.add(layers.Flatten())\n",
    "    model.add(layers.Dense(512, activation='relu'))\n",
    "    model.add(layers.Dropout(0.1))\n",
    "    model.add(layers.Dense(256, activation='relu'))\n",
    "    model.add(layers.Dense(1, activation='sigmoid'))\n",
    "\n",
    "    model.summary()\n",
    "\n",
    "    model.compile(loss='binary_crossentropy',\n",
    "                  optimizer='adam',\n",
    "                  metrics=['acc'])\n",
    "    return model\n",
    "\n",
    "def load_model(name):\n",
    "    return models.load_model(name)\n",
    "\n",
    "model = create_model()\n",
    "#model = load_model(\"case_2_78_val_acc.h5\")"
   ]
  },
  {
   "cell_type": "markdown",
   "metadata": {},
   "source": [
    "# 5. Training and and validation"
   ]
  },
  {
   "cell_type": "code",
   "execution_count": 4,
   "metadata": {},
   "outputs": [
    {
     "name": "stdout",
     "output_type": "stream",
     "text": [
      "Epoch 1/72\n",
      "64/64 [==============================] - 631s 10s/step - loss: 0.6093 - acc: 0.6938 - val_loss: 0.5160 - val_acc: 0.7109\n",
      "Epoch 2/72\n",
      "64/64 [==============================] - 620s 10s/step - loss: 0.5702 - acc: 0.7121 - val_loss: 0.5497 - val_acc: 0.7200\n",
      "Epoch 3/72\n",
      "64/64 [==============================] - 634s 10s/step - loss: 0.5365 - acc: 0.7179 - val_loss: 0.5654 - val_acc: 0.7080\n",
      "Epoch 4/72\n",
      "64/64 [==============================] - 599s 9s/step - loss: 0.5378 - acc: 0.7043 - val_loss: 0.4946 - val_acc: 0.7140\n",
      "Epoch 5/72\n",
      "64/64 [==============================] - 609s 10s/step - loss: 0.5292 - acc: 0.7084 - val_loss: 0.5901 - val_acc: 0.6960\n",
      "Epoch 6/72\n",
      "64/64 [==============================] - 629s 10s/step - loss: 0.5533 - acc: 0.7130 - val_loss: 0.5404 - val_acc: 0.7280\n",
      "Epoch 7/72\n",
      "64/64 [==============================] - 635s 10s/step - loss: 0.5324 - acc: 0.7065 - val_loss: 0.5071 - val_acc: 0.6940\n",
      "Epoch 8/72\n",
      "64/64 [==============================] - 616s 10s/step - loss: 0.5080 - acc: 0.7221 - val_loss: 0.5752 - val_acc: 0.6980\n",
      "Epoch 9/72\n",
      "64/64 [==============================] - 616s 10s/step - loss: 0.5586 - acc: 0.7018 - val_loss: 0.4972 - val_acc: 0.7200\n",
      "Epoch 10/72\n",
      "64/64 [==============================] - 621s 10s/step - loss: 0.5055 - acc: 0.7343 - val_loss: 0.4729 - val_acc: 0.7560\n",
      "Epoch 11/72\n",
      "64/64 [==============================] - 606s 9s/step - loss: 0.5100 - acc: 0.7270 - val_loss: 0.5295 - val_acc: 0.7540\n",
      "Epoch 12/72\n",
      "64/64 [==============================] - 614s 10s/step - loss: 0.5238 - acc: 0.7170 - val_loss: 0.5093 - val_acc: 0.7420\n",
      "Epoch 13/72\n",
      "64/64 [==============================] - 583s 9s/step - loss: 0.5081 - acc: 0.7336 - val_loss: 0.5293 - val_acc: 0.7480\n",
      "Epoch 14/72\n",
      "64/64 [==============================] - 581s 9s/step - loss: 0.5179 - acc: 0.7441 - val_loss: 0.5110 - val_acc: 0.7460\n",
      "Epoch 15/72\n",
      "64/64 [==============================] - 584s 9s/step - loss: 0.5120 - acc: 0.7441 - val_loss: 0.5111 - val_acc: 0.7660\n",
      "Epoch 16/72\n",
      "64/64 [==============================] - 578s 9s/step - loss: 0.5226 - acc: 0.7355 - val_loss: 0.4966 - val_acc: 0.7520\n",
      "Epoch 17/72\n",
      "64/64 [==============================] - 579s 9s/step - loss: 0.5253 - acc: 0.7429 - val_loss: 0.5331 - val_acc: 0.7260\n",
      "Epoch 18/72\n",
      "64/64 [==============================] - 583s 9s/step - loss: 0.4980 - acc: 0.7656 - val_loss: 0.5065 - val_acc: 0.7420\n",
      "Epoch 19/72\n",
      "64/64 [==============================] - 576s 9s/step - loss: 0.5207 - acc: 0.7257 - val_loss: 0.4949 - val_acc: 0.7880\n",
      "Epoch 20/72\n",
      "64/64 [==============================] - 581s 9s/step - loss: 0.4852 - acc: 0.7612 - val_loss: 0.5007 - val_acc: 0.7440\n",
      "Epoch 21/72\n",
      "64/64 [==============================] - 581s 9s/step - loss: 0.5110 - acc: 0.7282 - val_loss: 0.5081 - val_acc: 0.7760\n",
      "Epoch 22/72\n",
      "64/64 [==============================] - 583s 9s/step - loss: 0.5388 - acc: 0.7422 - val_loss: 0.5535 - val_acc: 0.7520\n",
      "Epoch 23/72\n",
      "64/64 [==============================] - 581s 9s/step - loss: 0.4935 - acc: 0.7553 - val_loss: 0.4940 - val_acc: 0.7600\n",
      "Epoch 24/72\n",
      "64/64 [==============================] - 582s 9s/step - loss: 0.5127 - acc: 0.7393 - val_loss: 0.5030 - val_acc: 0.7780\n",
      "Epoch 25/72\n",
      "64/64 [==============================] - 576s 9s/step - loss: 0.5020 - acc: 0.7553 - val_loss: 0.5125 - val_acc: 0.7440\n",
      "Epoch 26/72\n",
      "64/64 [==============================] - 579s 9s/step - loss: 0.4931 - acc: 0.7644 - val_loss: 0.4927 - val_acc: 0.7800\n",
      "Epoch 27/72\n",
      "64/64 [==============================] - 578s 9s/step - loss: 0.5086 - acc: 0.7351 - val_loss: 0.5234 - val_acc: 0.7820\n",
      "Epoch 28/72\n",
      "64/64 [==============================] - 581s 9s/step - loss: 0.5187 - acc: 0.7363 - val_loss: 0.5213 - val_acc: 0.7600\n",
      "Epoch 29/72\n",
      "64/64 [==============================] - 577s 9s/step - loss: 0.5123 - acc: 0.7485 - val_loss: 0.4844 - val_acc: 0.7680\n",
      "Epoch 30/72\n",
      "64/64 [==============================] - 576s 9s/step - loss: 0.5168 - acc: 0.7482 - val_loss: 0.5083 - val_acc: 0.7460\n",
      "Epoch 31/72\n",
      "64/64 [==============================] - 578s 9s/step - loss: 0.5317 - acc: 0.7257 - val_loss: 0.4847 - val_acc: 0.7740\n",
      "Epoch 32/72\n",
      "64/64 [==============================] - 575s 9s/step - loss: 0.4963 - acc: 0.7624 - val_loss: 0.4901 - val_acc: 0.7760\n",
      "Epoch 33/72\n",
      "64/64 [==============================] - 571s 9s/step - loss: 0.4948 - acc: 0.7621 - val_loss: 0.4811 - val_acc: 0.7680\n",
      "Epoch 34/72\n",
      "64/64 [==============================] - 582s 9s/step - loss: 0.4946 - acc: 0.7646 - val_loss: 0.5090 - val_acc: 0.7285\n",
      "Epoch 35/72\n",
      "64/64 [==============================] - 574s 9s/step - loss: 0.5014 - acc: 0.7762 - val_loss: 0.4890 - val_acc: 0.7680\n",
      "Epoch 36/72\n",
      "64/64 [==============================] - 578s 9s/step - loss: 0.4981 - acc: 0.7604 - val_loss: 0.4878 - val_acc: 0.7700\n",
      "Epoch 37/72\n",
      "64/64 [==============================] - 578s 9s/step - loss: 0.4965 - acc: 0.7641 - val_loss: 0.4942 - val_acc: 0.7620\n",
      "Epoch 38/72\n",
      "64/64 [==============================] - 578s 9s/step - loss: 0.5075 - acc: 0.7712 - val_loss: 0.4973 - val_acc: 0.7740\n",
      "Epoch 39/72\n",
      "64/64 [==============================] - 581s 9s/step - loss: 0.5051 - acc: 0.7393 - val_loss: 0.5054 - val_acc: 0.7560\n",
      "Epoch 40/72\n",
      "64/64 [==============================] - 574s 9s/step - loss: 0.4960 - acc: 0.7624 - val_loss: 0.4954 - val_acc: 0.7620\n",
      "Epoch 41/72\n",
      "64/64 [==============================] - 583s 9s/step - loss: 0.4942 - acc: 0.7734 - val_loss: 0.4848 - val_acc: 0.7660\n",
      "Epoch 42/72\n",
      "64/64 [==============================] - 574s 9s/step - loss: 0.4978 - acc: 0.7587 - val_loss: 0.5097 - val_acc: 0.7640\n",
      "Epoch 43/72\n",
      "64/64 [==============================] - 581s 9s/step - loss: 0.4921 - acc: 0.7598 - val_loss: 0.4908 - val_acc: 0.7640\n",
      "Epoch 44/72\n",
      "64/64 [==============================] - 578s 9s/step - loss: 0.4683 - acc: 0.7734 - val_loss: 0.4696 - val_acc: 0.7880\n",
      "Epoch 45/72\n",
      "64/64 [==============================] - 577s 9s/step - loss: 0.4894 - acc: 0.7641 - val_loss: 0.5027 - val_acc: 0.7560\n",
      "Epoch 46/72\n",
      "64/64 [==============================] - 576s 9s/step - loss: 0.4953 - acc: 0.7638 - val_loss: 0.4468 - val_acc: 0.7920\n",
      "Epoch 47/72\n",
      "64/64 [==============================] - 578s 9s/step - loss: 0.4860 - acc: 0.7629 - val_loss: 0.5174 - val_acc: 0.7600\n",
      "Epoch 48/72\n",
      "64/64 [==============================] - 572s 9s/step - loss: 0.4766 - acc: 0.7691 - val_loss: 0.4771 - val_acc: 0.7840\n",
      "Epoch 49/72\n",
      "64/64 [==============================] - 579s 9s/step - loss: 0.5096 - acc: 0.7539 - val_loss: 0.5627 - val_acc: 0.7200\n",
      "Epoch 50/72\n",
      "64/64 [==============================] - 577s 9s/step - loss: 0.4989 - acc: 0.7758 - val_loss: 0.5455 - val_acc: 0.7360\n",
      "Epoch 51/72\n",
      "64/64 [==============================] - 575s 9s/step - loss: 0.4735 - acc: 0.7644 - val_loss: 0.4616 - val_acc: 0.7760\n",
      "Epoch 52/72\n",
      "64/64 [==============================] - 576s 9s/step - loss: 0.4591 - acc: 0.7793 - val_loss: 0.4889 - val_acc: 0.7540\n",
      "Epoch 53/72\n",
      "64/64 [==============================] - 576s 9s/step - loss: 0.5129 - acc: 0.7538 - val_loss: 0.5083 - val_acc: 0.7520\n",
      "Epoch 54/72\n",
      "64/64 [==============================] - 575s 9s/step - loss: 0.4653 - acc: 0.7822 - val_loss: 0.5002 - val_acc: 0.7520\n",
      "Epoch 55/72\n",
      "64/64 [==============================] - 577s 9s/step - loss: 0.4788 - acc: 0.7702 - val_loss: 0.4976 - val_acc: 0.7620\n",
      "Epoch 56/72\n",
      "64/64 [==============================] - 576s 9s/step - loss: 0.4690 - acc: 0.7780 - val_loss: 0.5034 - val_acc: 0.7540\n",
      "Epoch 57/72\n",
      "64/64 [==============================] - 575s 9s/step - loss: 0.5110 - acc: 0.7446 - val_loss: 0.5164 - val_acc: 0.7420\n",
      "Epoch 58/72\n",
      "64/64 [==============================] - 575s 9s/step - loss: 0.4840 - acc: 0.7677 - val_loss: 0.5028 - val_acc: 0.7500\n",
      "Epoch 59/72\n",
      "64/64 [==============================] - 576s 9s/step - loss: 0.4703 - acc: 0.7651 - val_loss: 0.4698 - val_acc: 0.7540\n",
      "Epoch 60/72\n",
      "64/64 [==============================] - 576s 9s/step - loss: 0.4816 - acc: 0.7697 - val_loss: 0.4838 - val_acc: 0.7780\n",
      "Epoch 61/72\n",
      "64/64 [==============================] - 575s 9s/step - loss: 0.4728 - acc: 0.7700 - val_loss: 0.5046 - val_acc: 0.7320\n",
      "Epoch 62/72\n",
      "64/64 [==============================] - 576s 9s/step - loss: 0.4774 - acc: 0.7715 - val_loss: 0.5119 - val_acc: 0.7740\n",
      "Epoch 63/72\n"
     ]
    },
    {
     "name": "stdout",
     "output_type": "stream",
     "text": [
      "64/64 [==============================] - 576s 9s/step - loss: 0.4795 - acc: 0.7754 - val_loss: 0.4917 - val_acc: 0.7700\n",
      "Epoch 64/72\n",
      "64/64 [==============================] - 574s 9s/step - loss: 0.4765 - acc: 0.7758 - val_loss: 0.4940 - val_acc: 0.7720\n",
      "Epoch 65/72\n",
      "64/64 [==============================] - 574s 9s/step - loss: 0.4611 - acc: 0.7702 - val_loss: 0.4797 - val_acc: 0.7480\n",
      "Epoch 66/72\n",
      "64/64 [==============================] - 568s 9s/step - loss: 0.4713 - acc: 0.7819 - val_loss: 0.5006 - val_acc: 0.7560\n",
      "Epoch 67/72\n",
      "64/64 [==============================] - 579s 9s/step - loss: 0.4614 - acc: 0.7846 - val_loss: 0.4788 - val_acc: 0.7715\n",
      "Epoch 68/72\n",
      "64/64 [==============================] - 577s 9s/step - loss: 0.4762 - acc: 0.7741 - val_loss: 0.4889 - val_acc: 0.7680\n",
      "Epoch 69/72\n",
      "64/64 [==============================] - 578s 9s/step - loss: 0.4743 - acc: 0.7731 - val_loss: 0.4668 - val_acc: 0.7760\n",
      "Epoch 70/72\n",
      "64/64 [==============================] - 577s 9s/step - loss: 0.4668 - acc: 0.7812 - val_loss: 0.4806 - val_acc: 0.7680\n",
      "Epoch 71/72\n",
      "64/64 [==============================] - 580s 9s/step - loss: 0.4651 - acc: 0.7783 - val_loss: 0.5073 - val_acc: 0.7520\n",
      "Epoch 72/72\n",
      "64/64 [==============================] - 575s 9s/step - loss: 0.4648 - acc: 0.7822 - val_loss: 0.4894 - val_acc: 0.7500\n"
     ]
    }
   ],
   "source": [
    "# Go through all the training & validation images\n",
    "# in every epoch\n",
    "steps = train_generator.n // train_generator.batch_size\n",
    "steps_validation = validation_generator.n // validation_generator.batch_size\n",
    "\n",
    "history = model.fit_generator(\n",
    "    train_generator,\n",
    "    steps_per_epoch = steps,\n",
    "    verbose = 1,\n",
    "    epochs = 72,\n",
    "    validation_data = validation_generator,\n",
    "    validation_steps = steps_validation,\n",
    "    workers=4\n",
    ")\n",
    "\n",
    "model.save('case_2_run_2.h5')"
   ]
  },
  {
   "cell_type": "markdown",
   "metadata": {},
   "source": [
    "# 6. Results\n",
    "## Validation and training results\n",
    "### Training and validation accuracy & loss during training"
   ]
  },
  {
   "cell_type": "code",
   "execution_count": 5,
   "metadata": {},
   "outputs": [
    {
     "data": {
      "image/png": "[encoded data removed]",
      "text/plain": [
       "<Figure size 432x288 with 1 Axes>"
      ]
     },
     "metadata": {
      "needs_background": "light"
     },
     "output_type": "display_data"
    },
    {
     "data": {
      "image/png": "[encoded data removed]",
      "text/plain": [
       "<Figure size 432x288 with 1 Axes>"
      ]
     },
     "metadata": {
      "needs_background": "light"
     },
     "output_type": "display_data"
    }
   ],
   "source": [
    "acc = history.history['acc']\n",
    "val_acc = history.history['val_acc']\n",
    "loss = history.history['loss']\n",
    "val_loss = history.history['val_loss']\n",
    "\n",
    "epochs = range(len(acc))\n",
    "\n",
    "plt.plot(epochs, acc, 'bo', label='Training acc')\n",
    "plt.plot(epochs, val_acc, 'b', label='Validation acc')\n",
    "plt.title('Training and validation accuracy')\n",
    "plt.legend()\n",
    "\n",
    "plt.figure()\n",
    "\n",
    "plt.plot(epochs, loss, 'bo', label='Training loss')\n",
    "plt.plot(epochs, val_loss, 'b', label='Validation loss')\n",
    "plt.title('Training and validation loss')\n",
    "plt.legend()\n",
    "\n",
    "plt.show()"
   ]
  },
  {
   "cell_type": "markdown",
   "metadata": {},
   "source": [
    "On my machine, the biggest bottle neck in training of the neural network was the CPU, and then the HDD. Using these `ImageDataGenerator`s that read images from the hard drive, the GPU does not really contribute that much to the training speed. Instead the most time consuming process is reading the images to memory and applying augmentation to them; tweaking the network's weights doesn't take that much time in comparison. That meant I did not get that many tries to tune the network, due to time constraints.\n",
    "\n",
    "The model saved as `case_2_run_1.h5` was trained for about 16 hours, and it had a final validation accuracy varying between 0,78 and 0,80. Unfortunately I forgot to run the graphing cells before closing jupyter notebook, and so I lost track of the `History` object, meaning I could not save the graphs.\n",
    "\n",
    "So the model above (`case_2_run_2.h5`), is a worse performing one, than the previous one.\n",
    "### Training and validation metrics"
   ]
  },
  {
   "cell_type": "code",
   "execution_count": 6,
   "metadata": {},
   "outputs": [],
   "source": [
    "# Calculate the true and predicted values\n",
    "y_true = validation_generator.classes\n",
    "predict = model.predict_generator(validation_generator)\n",
    "y_pred = predict > 0.5"
   ]
  },
  {
   "cell_type": "code",
   "execution_count": 22,
   "metadata": {},
   "outputs": [
    {
     "name": "stdout",
     "output_type": "stream",
     "text": [
      "Confusion matrix:\n",
      "[[277  90]\n",
      " [111  38]]\n",
      "\n",
      "Classification report:\n",
      "              precision    recall  f1-score   support\n",
      "\n",
      "           0       0.71      0.75      0.73       367\n",
      "           1       0.30      0.26      0.27       149\n",
      "\n",
      "   micro avg       0.61      0.61      0.61       516\n",
      "   macro avg       0.51      0.50      0.50       516\n",
      "weighted avg       0.59      0.61      0.60       516\n",
      "\n",
      "\n",
      "Accuracy with decision point 0.5000 ==> 0.6105\n"
     ]
    }
   ],
   "source": [
    "# Calculate and print the metrics results\n",
    "\n",
    "cm = confusion_matrix(y_true, y_pred)\n",
    "print('Confusion matrix:')\n",
    "print(cm)\n",
    "print('')\n",
    "\n",
    "cr = classification_report(y_true, y_pred)\n",
    "print('Classification report:')\n",
    "print(cr)\n",
    "print('')\n",
    "\n",
    "a = accuracy_score(y_true, predict > 0.5)\n",
    "print('Accuracy with decision point {:.4f} ==> {:.4f}'.format(0.5, a))"
   ]
  },
  {
   "cell_type": "markdown",
   "metadata": {},
   "source": [
    "As the confusion matrix suggests, this model is very poor. There's way more false negatives than true positives, meaning most of the disease cases were labeled as healthy. The low precision (0,30) and recall (0,26) also indicate this. Using class weights, a longer training period, and more finely tuned network would have probably yielded better results.\n",
    "\n",
    "The decision point can be altered, but as shown below, the overall results remain bad."
   ]
  },
  {
   "cell_type": "code",
   "execution_count": 21,
   "metadata": {},
   "outputs": [
    {
     "name": "stdout",
     "output_type": "stream",
     "text": [
      "Confusion matrix:\n",
      "[[178 189]\n",
      " [ 80  69]]\n",
      "\n",
      "Classification report:\n",
      "              precision    recall  f1-score   support\n",
      "\n",
      "           0       0.69      0.49      0.57       367\n",
      "           1       0.27      0.46      0.34       149\n",
      "\n",
      "   micro avg       0.48      0.48      0.48       516\n",
      "   macro avg       0.48      0.47      0.45       516\n",
      "weighted avg       0.57      0.48      0.50       516\n",
      "\n",
      "\n",
      "Accuracy with decision point 0.2500 ==> 0.4787\n"
     ]
    }
   ],
   "source": [
    "dp = 0.25\n",
    "cm = confusion_matrix(y_true, predict > dp)\n",
    "print('Confusion matrix:')\n",
    "print(cm)\n",
    "print('')\n",
    "\n",
    "cr = classification_report(y_true, predict > dp)\n",
    "print('Classification report:')\n",
    "print(cr)\n",
    "print('')\n",
    "\n",
    "a = accuracy_score(y_true, predict > dp)\n",
    "print('Accuracy with decision point {:.4f} ==> {:.4f}'.format(dp, a))"
   ]
  },
  {
   "cell_type": "code",
   "execution_count": 23,
   "metadata": {},
   "outputs": [
    {
     "data": {
      "image/png": "[encoded data removed]",
      "text/plain": [
       "<Figure size 432x288 with 1 Axes>"
      ]
     },
     "metadata": {
      "needs_background": "light"
     },
     "output_type": "display_data"
    }
   ],
   "source": [
    "fpr, tpr, thresholds = roc_curve(y_true, predict)\n",
    "\n",
    "plt.plot(fpr, tpr, color='darkorange', lw = 2)\n",
    "plt.plot([0, 1], [0, 1], color='navy', lw = 2, linestyle='--')\n",
    "plt.xlim([0.0, 1.0])\n",
    "plt.ylim([0.0, 1.05])\n",
    "plt.xlabel('False Positive Rate')\n",
    "plt.ylabel('True Positive Rate')\n",
    "plt.title('Receiver operating characteristic curve')\n",
    "plt.show()"
   ]
  },
  {
   "cell_type": "markdown",
   "metadata": {},
   "source": [
    "The ROC-curve tells the same story as the other metrics.\n",
    "## Final test set results\n",
    "Finally, lets test the model on the reserved test set (25% of all original images).\n",
    "### case_2_run_2.h5 (the one displayed above)"
   ]
  },
  {
   "cell_type": "code",
   "execution_count": 25,
   "metadata": {},
   "outputs": [
    {
     "name": "stdout",
     "output_type": "stream",
     "text": [
      "Test set: Found 516 images belonging to 2 classes.\n",
      "Test set confusion matrix:\n",
      "[[282  85]\n",
      " [120  29]]\n",
      "\n",
      "Test set classification report:\n",
      "              precision    recall  f1-score   support\n",
      "\n",
      "           0       0.70      0.77      0.73       367\n",
      "           1       0.25      0.19      0.22       149\n",
      "\n",
      "   micro avg       0.60      0.60      0.60       516\n",
      "   macro avg       0.48      0.48      0.48       516\n",
      "weighted avg       0.57      0.60      0.59       516\n",
      "\n",
      "\n",
      "Test set accuracy with decision point 0.5000 ==> 0.6027\n"
     ]
    }
   ],
   "source": [
    "test_dir = \"./dataset2/test\"\n",
    "\n",
    "final_test_datagen = ImageDataGenerator(rescale=1./255)\n",
    "\n",
    "print(\"Test set: \", end='')\n",
    "test_generator = final_test_datagen.flow_from_directory(\n",
    "    test_dir,\n",
    "    target_size=(256, 256),\n",
    "    batch_size=16,\n",
    "    class_mode='binary')\n",
    "\n",
    "y_test_true = test_generator.classes\n",
    "test_predict = model.predict_generator(test_generator)\n",
    "y_test_pred = test_predict > 0.5\n",
    "\n",
    "test_cm = confusion_matrix(y_test_true, y_test_pred)\n",
    "print('Test set confusion matrix:')\n",
    "print(test_cm)\n",
    "print('')\n",
    "\n",
    "test_cr = classification_report(y_test_true, y_test_pred)\n",
    "print('Test set classification report:')\n",
    "print(test_cr)\n",
    "print('')\n",
    "\n",
    "test_a = accuracy_score(y_test_true, test_predict > 0.5)\n",
    "print('Test set accuracy with decision point {:.4f} ==> {:.4f}'.format(0.5, test_a))"
   ]
  },
  {
   "cell_type": "markdown",
   "metadata": {},
   "source": [
    "## case_2_run_1.h5"
   ]
  },
  {
   "cell_type": "code",
   "execution_count": 26,
   "metadata": {},
   "outputs": [
    {
     "name": "stdout",
     "output_type": "stream",
     "text": [
      "Test set confusion matrix:\n",
      "[[282  85]\n",
      " [111  38]]\n",
      "\n",
      "Test set classification report:\n",
      "              precision    recall  f1-score   support\n",
      "\n",
      "           0       0.72      0.77      0.74       367\n",
      "           1       0.31      0.26      0.28       149\n",
      "\n",
      "   micro avg       0.62      0.62      0.62       516\n",
      "   macro avg       0.51      0.51      0.51       516\n",
      "weighted avg       0.60      0.62      0.61       516\n",
      "\n",
      "\n",
      "Test set accuracy with decision point 0.5000 ==> 0.6202\n"
     ]
    }
   ],
   "source": [
    "model = load_model(\"case_2_run_1.h5\")\n",
    "\n",
    "test_predict = model.predict_generator(test_generator)\n",
    "y_test_pred = test_predict > 0.5\n",
    "\n",
    "test_cm = confusion_matrix(y_test_true, y_test_pred)\n",
    "print('Test set confusion matrix:')\n",
    "print(test_cm)\n",
    "print('')\n",
    "\n",
    "test_cr = classification_report(y_test_true, y_test_pred)\n",
    "print('Test set classification report:')\n",
    "print(test_cr)\n",
    "print('')\n",
    "\n",
    "test_a = accuracy_score(y_test_true, test_predict > 0.5)\n",
    "print('Test set accuracy with decision point {:.4f} ==> {:.4f}'.format(0.5, test_a))"
   ]
  },
  {
   "cell_type": "markdown",
   "metadata": {},
   "source": [
    "Seems that the previous model I trained (and forgot to print metrics during training), is just a little bit better at finding disease cases, but not significantly.\n",
    "# 7. Conclusion\n",
    "Overall, the network's performance is about comparable to guesswork; just say that every image is healthy, and a similar accuracy will be achieved.\n",
    "\n",
    "Better image preprocessing would probably have improved the results. The winning entry in the Kaggle contest altered the color and croppping of the images, and applied a circular mask to them to make the image features more visible and removing some distortions visible in the edges of the images. Also a longer training time would have been beneficial, because there wasn't yet much or any overfitting present in either of my models, that I trained for 10h+.\n",
    "\n",
    "It was a shame that I could not properly utilize my GPU, because my CPU bottlenecked the training significantly, because of loading images from the disk."
   ]
  }
 ],
 "metadata": {
  "kernelspec": {
   "display_name": "Python 3",
   "language": "python",
   "name": "python3"
  },
  "language_info": {
   "codemirror_mode": {
    "name": "ipython",
    "version": 3
   },
   "file_extension": ".py",
   "mimetype": "text/x-python",
   "name": "python",
   "nbconvert_exporter": "python",
   "pygments_lexer": "ipython3",
   "version": "3.6.7"
  }
 },
 "nbformat": 4,
 "nbformat_minor": 2
}
