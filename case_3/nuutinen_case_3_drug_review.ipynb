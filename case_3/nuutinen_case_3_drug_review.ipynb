{
 "cells": [
  {
   "cell_type": "markdown",
   "metadata": {},
   "source": [
    "<br><br>\n",
    "# Case 3: Patient drug review\n",
    "\n",
    "### Juha Nuutinen\n",
    "\n",
    "### 11.03.2019\n",
    "\n",
    "### Helsinki Metropolia University of Applied Sciences\n",
    "<br><br>\n",
    "\n",
    "# Objectives\n",
    "The aim of this assignment is to learn to use neural networks to process text data and predict ratings associated to the text. The task is to use recurrent and convolutional neural networks to create a predictor for a collection of patient drug reviews extracted from [Drugs.com](https://www.drugs.com). Drugs.com is a comprehensive source of drug information online. The original dataset is explained in [Grässer et al (2018) article](http://kdd.cs.ksu.edu/Publications/Student/kallumadi2018aspect.pdf).\n",
    "\n",
    "This notebook contains extracts from a [notebook by Sakari Lukkarinen](https://github.com/sakluk/cognitive-systems-for-health-technology/blob/master/Week%207.%20embedding-lstm-gru-and-conv1d.ipynb).\n",
    "\n",
    "# Required Libraries"
   ]
  },
  {
   "cell_type": "code",
   "execution_count": 66,
   "metadata": {},
   "outputs": [
    {
     "name": "stdout",
     "output_type": "stream",
     "text": [
      "['drugsComTest_raw.csv', 'drugsComTrain_raw.csv']\n"
     ]
    }
   ],
   "source": [
    "import numpy as np\n",
    "import pandas as pd\n",
    "import matplotlib.pyplot as plt\n",
    "\n",
    "from keras.utils import to_categorical\n",
    "from keras.preprocessing.text import Tokenizer\n",
    "from keras.preprocessing.sequence import pad_sequences\n",
    "\n",
    "from keras.layers import GRU\n",
    "from keras.layers import Conv1D\n",
    "from keras.layers import MaxPooling1D\n",
    "from keras.layers import Dropout\n",
    "from keras.layers import Embedding\n",
    "from keras.layers import Flatten\n",
    "from keras.layers import Dense\n",
    "from keras.models import Sequential\n",
    "from keras.models import load_model\n",
    "\n",
    "from sklearn.utils.class_weight import compute_class_weight\n",
    "from sklearn.metrics import confusion_matrix\n",
    "from sklearn.metrics import classification_report\n",
    "from sklearn.metrics import accuracy_score\n",
    "\n",
    "import os\n",
    "print(os.listdir(\"./input\"))"
   ]
  },
  {
   "cell_type": "markdown",
   "metadata": {},
   "source": [
    "# Data\n",
    "\n",
    "### Origin\n",
    "The data used for this study is from [KUC Hackathon Winter 2018 Kaggle page](https://www.kaggle.com/jessicali9530/kuc-hackathon-winter-2018/home).\n",
    "\n",
    "### Description\n",
    "The data is in csv format, and it has already been split into a train and test set. The size of the train set is 161 295, and the size of the test set is 53 766.\n",
    "\n",
    "The data has the following 7 attributes:\n",
    "* uniqueID\n",
    "    * integer id\n",
    "* drugName\n",
    "    * string, name of the drug being reviewed\n",
    "* condition\n",
    "    * string, the general condition the drug is used for\n",
    "* review\n",
    "    * string, the review text\n",
    "* rating\n",
    "    * integer rating (0-10)\n",
    "* date\n",
    "    * the submit date of the review\n",
    "* usefulCount\n",
    "    * integer, the number of times this review has been marked as \"useful\" by other users\n",
    "\n",
    "The data has some missing values for the attribute `condition`, but it doesn't affect this study very much, as the goal is to predict the rating of the review."
   ]
  },
  {
   "cell_type": "code",
   "execution_count": 2,
   "metadata": {},
   "outputs": [
    {
     "name": "stdout",
     "output_type": "stream",
     "text": [
      "Number of test data instances: 53766\n"
     ]
    },
    {
     "data": {
      "text/html": [
       "<div>\n",
       "<style scoped>\n",
       "    .dataframe tbody tr th:only-of-type {\n",
       "        vertical-align: middle;\n",
       "    }\n",
       "\n",
       "    .dataframe tbody tr th {\n",
       "        vertical-align: top;\n",
       "    }\n",
       "\n",
       "    .dataframe thead th {\n",
       "        text-align: right;\n",
       "    }\n",
       "</style>\n",
       "<table border=\"1\" class=\"dataframe\">\n",
       "  <thead>\n",
       "    <tr style=\"text-align: right;\">\n",
       "      <th></th>\n",
       "      <th>uniqueID</th>\n",
       "      <th>drugName</th>\n",
       "      <th>condition</th>\n",
       "      <th>review</th>\n",
       "      <th>rating</th>\n",
       "      <th>date</th>\n",
       "      <th>usefulCount</th>\n",
       "    </tr>\n",
       "  </thead>\n",
       "  <tbody>\n",
       "    <tr>\n",
       "      <th>count</th>\n",
       "      <td>161297.000000</td>\n",
       "      <td>161297</td>\n",
       "      <td>160398</td>\n",
       "      <td>161297</td>\n",
       "      <td>161297.000000</td>\n",
       "      <td>161297</td>\n",
       "      <td>161297.000000</td>\n",
       "    </tr>\n",
       "    <tr>\n",
       "      <th>unique</th>\n",
       "      <td>NaN</td>\n",
       "      <td>3436</td>\n",
       "      <td>884</td>\n",
       "      <td>112329</td>\n",
       "      <td>NaN</td>\n",
       "      <td>3579</td>\n",
       "      <td>NaN</td>\n",
       "    </tr>\n",
       "    <tr>\n",
       "      <th>top</th>\n",
       "      <td>NaN</td>\n",
       "      <td>Levonorgestrel</td>\n",
       "      <td>Birth Control</td>\n",
       "      <td>\"Good\"</td>\n",
       "      <td>NaN</td>\n",
       "      <td>1-Mar-16</td>\n",
       "      <td>NaN</td>\n",
       "    </tr>\n",
       "    <tr>\n",
       "      <th>freq</th>\n",
       "      <td>NaN</td>\n",
       "      <td>3657</td>\n",
       "      <td>28788</td>\n",
       "      <td>33</td>\n",
       "      <td>NaN</td>\n",
       "      <td>146</td>\n",
       "      <td>NaN</td>\n",
       "    </tr>\n",
       "    <tr>\n",
       "      <th>mean</th>\n",
       "      <td>115923.585305</td>\n",
       "      <td>NaN</td>\n",
       "      <td>NaN</td>\n",
       "      <td>NaN</td>\n",
       "      <td>6.994377</td>\n",
       "      <td>NaN</td>\n",
       "      <td>28.004755</td>\n",
       "    </tr>\n",
       "    <tr>\n",
       "      <th>std</th>\n",
       "      <td>67004.445170</td>\n",
       "      <td>NaN</td>\n",
       "      <td>NaN</td>\n",
       "      <td>NaN</td>\n",
       "      <td>3.272329</td>\n",
       "      <td>NaN</td>\n",
       "      <td>36.403742</td>\n",
       "    </tr>\n",
       "    <tr>\n",
       "      <th>min</th>\n",
       "      <td>2.000000</td>\n",
       "      <td>NaN</td>\n",
       "      <td>NaN</td>\n",
       "      <td>NaN</td>\n",
       "      <td>1.000000</td>\n",
       "      <td>NaN</td>\n",
       "      <td>0.000000</td>\n",
       "    </tr>\n",
       "    <tr>\n",
       "      <th>25%</th>\n",
       "      <td>58063.000000</td>\n",
       "      <td>NaN</td>\n",
       "      <td>NaN</td>\n",
       "      <td>NaN</td>\n",
       "      <td>5.000000</td>\n",
       "      <td>NaN</td>\n",
       "      <td>6.000000</td>\n",
       "    </tr>\n",
       "    <tr>\n",
       "      <th>50%</th>\n",
       "      <td>115744.000000</td>\n",
       "      <td>NaN</td>\n",
       "      <td>NaN</td>\n",
       "      <td>NaN</td>\n",
       "      <td>8.000000</td>\n",
       "      <td>NaN</td>\n",
       "      <td>16.000000</td>\n",
       "    </tr>\n",
       "    <tr>\n",
       "      <th>75%</th>\n",
       "      <td>173776.000000</td>\n",
       "      <td>NaN</td>\n",
       "      <td>NaN</td>\n",
       "      <td>NaN</td>\n",
       "      <td>10.000000</td>\n",
       "      <td>NaN</td>\n",
       "      <td>36.000000</td>\n",
       "    </tr>\n",
       "    <tr>\n",
       "      <th>max</th>\n",
       "      <td>232291.000000</td>\n",
       "      <td>NaN</td>\n",
       "      <td>NaN</td>\n",
       "      <td>NaN</td>\n",
       "      <td>10.000000</td>\n",
       "      <td>NaN</td>\n",
       "      <td>1291.000000</td>\n",
       "    </tr>\n",
       "  </tbody>\n",
       "</table>\n",
       "</div>"
      ],
      "text/plain": [
       "             uniqueID        drugName      condition  review         rating  \\\n",
       "count   161297.000000          161297         160398  161297  161297.000000   \n",
       "unique            NaN            3436            884  112329            NaN   \n",
       "top               NaN  Levonorgestrel  Birth Control  \"Good\"            NaN   \n",
       "freq              NaN            3657          28788      33            NaN   \n",
       "mean    115923.585305             NaN            NaN     NaN       6.994377   \n",
       "std      67004.445170             NaN            NaN     NaN       3.272329   \n",
       "min          2.000000             NaN            NaN     NaN       1.000000   \n",
       "25%      58063.000000             NaN            NaN     NaN       5.000000   \n",
       "50%     115744.000000             NaN            NaN     NaN       8.000000   \n",
       "75%     173776.000000             NaN            NaN     NaN      10.000000   \n",
       "max     232291.000000             NaN            NaN     NaN      10.000000   \n",
       "\n",
       "            date    usefulCount  \n",
       "count     161297  161297.000000  \n",
       "unique      3579            NaN  \n",
       "top     1-Mar-16            NaN  \n",
       "freq         146            NaN  \n",
       "mean         NaN      28.004755  \n",
       "std          NaN      36.403742  \n",
       "min          NaN       0.000000  \n",
       "25%          NaN       6.000000  \n",
       "50%          NaN      16.000000  \n",
       "75%          NaN      36.000000  \n",
       "max          NaN    1291.000000  "
      ]
     },
     "execution_count": 2,
     "metadata": {},
     "output_type": "execute_result"
    }
   ],
   "source": [
    "train_data = pd.read_csv(\"./input/drugsComTrain_raw.csv\")\n",
    "test_data = pd.read_csv(\"./input/drugsComTest_raw.csv\")\n",
    "print(\"Number of test data instances: {}\".format(len(test_data)))\n",
    "train_data.describe(include=\"all\")"
   ]
  },
  {
   "cell_type": "code",
   "execution_count": 3,
   "metadata": {},
   "outputs": [
    {
     "data": {
      "text/html": [
       "<div>\n",
       "<style scoped>\n",
       "    .dataframe tbody tr th:only-of-type {\n",
       "        vertical-align: middle;\n",
       "    }\n",
       "\n",
       "    .dataframe tbody tr th {\n",
       "        vertical-align: top;\n",
       "    }\n",
       "\n",
       "    .dataframe thead th {\n",
       "        text-align: right;\n",
       "    }\n",
       "</style>\n",
       "<table border=\"1\" class=\"dataframe\">\n",
       "  <thead>\n",
       "    <tr style=\"text-align: right;\">\n",
       "      <th></th>\n",
       "      <th>uniqueID</th>\n",
       "      <th>drugName</th>\n",
       "      <th>condition</th>\n",
       "      <th>review</th>\n",
       "      <th>rating</th>\n",
       "      <th>date</th>\n",
       "      <th>usefulCount</th>\n",
       "    </tr>\n",
       "  </thead>\n",
       "  <tbody>\n",
       "    <tr>\n",
       "      <th>0</th>\n",
       "      <td>206461</td>\n",
       "      <td>Valsartan</td>\n",
       "      <td>Left Ventricular Dysfunction</td>\n",
       "      <td>\"It has no side effect, I take it in combinati...</td>\n",
       "      <td>9</td>\n",
       "      <td>20-May-12</td>\n",
       "      <td>27</td>\n",
       "    </tr>\n",
       "    <tr>\n",
       "      <th>1</th>\n",
       "      <td>95260</td>\n",
       "      <td>Guanfacine</td>\n",
       "      <td>ADHD</td>\n",
       "      <td>\"My son is halfway through his fourth week of ...</td>\n",
       "      <td>8</td>\n",
       "      <td>27-Apr-10</td>\n",
       "      <td>192</td>\n",
       "    </tr>\n",
       "    <tr>\n",
       "      <th>2</th>\n",
       "      <td>92703</td>\n",
       "      <td>Lybrel</td>\n",
       "      <td>Birth Control</td>\n",
       "      <td>\"I used to take another oral contraceptive, wh...</td>\n",
       "      <td>5</td>\n",
       "      <td>14-Dec-09</td>\n",
       "      <td>17</td>\n",
       "    </tr>\n",
       "    <tr>\n",
       "      <th>3</th>\n",
       "      <td>138000</td>\n",
       "      <td>Ortho Evra</td>\n",
       "      <td>Birth Control</td>\n",
       "      <td>\"This is my first time using any form of birth...</td>\n",
       "      <td>8</td>\n",
       "      <td>3-Nov-15</td>\n",
       "      <td>10</td>\n",
       "    </tr>\n",
       "    <tr>\n",
       "      <th>4</th>\n",
       "      <td>35696</td>\n",
       "      <td>Buprenorphine / naloxone</td>\n",
       "      <td>Opiate Dependence</td>\n",
       "      <td>\"Suboxone has completely turned my life around...</td>\n",
       "      <td>9</td>\n",
       "      <td>27-Nov-16</td>\n",
       "      <td>37</td>\n",
       "    </tr>\n",
       "  </tbody>\n",
       "</table>\n",
       "</div>"
      ],
      "text/plain": [
       "   uniqueID                  drugName                     condition  \\\n",
       "0    206461                 Valsartan  Left Ventricular Dysfunction   \n",
       "1     95260                Guanfacine                          ADHD   \n",
       "2     92703                    Lybrel                 Birth Control   \n",
       "3    138000                Ortho Evra                 Birth Control   \n",
       "4     35696  Buprenorphine / naloxone             Opiate Dependence   \n",
       "\n",
       "                                              review  rating       date  \\\n",
       "0  \"It has no side effect, I take it in combinati...       9  20-May-12   \n",
       "1  \"My son is halfway through his fourth week of ...       8  27-Apr-10   \n",
       "2  \"I used to take another oral contraceptive, wh...       5  14-Dec-09   \n",
       "3  \"This is my first time using any form of birth...       8   3-Nov-15   \n",
       "4  \"Suboxone has completely turned my life around...       9  27-Nov-16   \n",
       "\n",
       "   usefulCount  \n",
       "0           27  \n",
       "1          192  \n",
       "2           17  \n",
       "3           10  \n",
       "4           37  "
      ]
     },
     "execution_count": 3,
     "metadata": {},
     "output_type": "execute_result"
    }
   ],
   "source": [
    "train_data.head()"
   ]
  },
  {
   "cell_type": "markdown",
   "metadata": {},
   "source": [
    "### Preprocessing\n",
    "\n",
    "#### Add categorical labels\n",
    "5 categories for the rating is used:\n",
    "* rating [9, 10]: very positive\n",
    "* rating [7, 8]: positive\n",
    "* rating [5, 6]: neutral\n",
    "* rating [3, 4]: negative\n",
    "* rating [1, 2]: very negative\n",
    "\n",
    "The first step is to add these categories as labels to the data."
   ]
  },
  {
   "cell_type": "code",
   "execution_count": 4,
   "metadata": {},
   "outputs": [
    {
     "data": {
      "text/html": [
       "<div>\n",
       "<style scoped>\n",
       "    .dataframe tbody tr th:only-of-type {\n",
       "        vertical-align: middle;\n",
       "    }\n",
       "\n",
       "    .dataframe tbody tr th {\n",
       "        vertical-align: top;\n",
       "    }\n",
       "\n",
       "    .dataframe thead th {\n",
       "        text-align: right;\n",
       "    }\n",
       "</style>\n",
       "<table border=\"1\" class=\"dataframe\">\n",
       "  <thead>\n",
       "    <tr style=\"text-align: right;\">\n",
       "      <th></th>\n",
       "      <th>uniqueID</th>\n",
       "      <th>drugName</th>\n",
       "      <th>condition</th>\n",
       "      <th>review</th>\n",
       "      <th>rating</th>\n",
       "      <th>date</th>\n",
       "      <th>usefulCount</th>\n",
       "      <th>label</th>\n",
       "    </tr>\n",
       "  </thead>\n",
       "  <tbody>\n",
       "    <tr>\n",
       "      <th>0</th>\n",
       "      <td>206461</td>\n",
       "      <td>Valsartan</td>\n",
       "      <td>Left Ventricular Dysfunction</td>\n",
       "      <td>\"It has no side effect, I take it in combinati...</td>\n",
       "      <td>9</td>\n",
       "      <td>20-May-12</td>\n",
       "      <td>27</td>\n",
       "      <td>2</td>\n",
       "    </tr>\n",
       "    <tr>\n",
       "      <th>1</th>\n",
       "      <td>95260</td>\n",
       "      <td>Guanfacine</td>\n",
       "      <td>ADHD</td>\n",
       "      <td>\"My son is halfway through his fourth week of ...</td>\n",
       "      <td>8</td>\n",
       "      <td>27-Apr-10</td>\n",
       "      <td>192</td>\n",
       "      <td>1</td>\n",
       "    </tr>\n",
       "    <tr>\n",
       "      <th>2</th>\n",
       "      <td>92703</td>\n",
       "      <td>Lybrel</td>\n",
       "      <td>Birth Control</td>\n",
       "      <td>\"I used to take another oral contraceptive, wh...</td>\n",
       "      <td>5</td>\n",
       "      <td>14-Dec-09</td>\n",
       "      <td>17</td>\n",
       "      <td>0</td>\n",
       "    </tr>\n",
       "    <tr>\n",
       "      <th>3</th>\n",
       "      <td>138000</td>\n",
       "      <td>Ortho Evra</td>\n",
       "      <td>Birth Control</td>\n",
       "      <td>\"This is my first time using any form of birth...</td>\n",
       "      <td>8</td>\n",
       "      <td>3-Nov-15</td>\n",
       "      <td>10</td>\n",
       "      <td>1</td>\n",
       "    </tr>\n",
       "    <tr>\n",
       "      <th>4</th>\n",
       "      <td>35696</td>\n",
       "      <td>Buprenorphine / naloxone</td>\n",
       "      <td>Opiate Dependence</td>\n",
       "      <td>\"Suboxone has completely turned my life around...</td>\n",
       "      <td>9</td>\n",
       "      <td>27-Nov-16</td>\n",
       "      <td>37</td>\n",
       "      <td>2</td>\n",
       "    </tr>\n",
       "  </tbody>\n",
       "</table>\n",
       "</div>"
      ],
      "text/plain": [
       "   uniqueID                  drugName                     condition  \\\n",
       "0    206461                 Valsartan  Left Ventricular Dysfunction   \n",
       "1     95260                Guanfacine                          ADHD   \n",
       "2     92703                    Lybrel                 Birth Control   \n",
       "3    138000                Ortho Evra                 Birth Control   \n",
       "4     35696  Buprenorphine / naloxone             Opiate Dependence   \n",
       "\n",
       "                                              review  rating       date  \\\n",
       "0  \"It has no side effect, I take it in combinati...       9  20-May-12   \n",
       "1  \"My son is halfway through his fourth week of ...       8  27-Apr-10   \n",
       "2  \"I used to take another oral contraceptive, wh...       5  14-Dec-09   \n",
       "3  \"This is my first time using any form of birth...       8   3-Nov-15   \n",
       "4  \"Suboxone has completely turned my life around...       9  27-Nov-16   \n",
       "\n",
       "   usefulCount  label  \n",
       "0           27      2  \n",
       "1          192      1  \n",
       "2           17      0  \n",
       "3           10      1  \n",
       "4           37      2  "
      ]
     },
     "execution_count": 4,
     "metadata": {},
     "output_type": "execute_result"
    }
   ],
   "source": [
    "# Add categorical label to train data\n",
    "r = train_data[\"rating\"]\n",
    "train_labels = -2 * (r <= 2) \\\n",
    "    + -1 * ((r == 3) | (r == 4)) \\\n",
    "    + 1 * ((r == 7) | (r == 8)) \\\n",
    "    + 2 * (r >= 9)\n",
    "train_data[\"label\"] = train_labels\n",
    "\n",
    "# And for test data\n",
    "r = test_data[\"rating\"]\n",
    "test_labels = -2 * (r <= 2) \\\n",
    "    + -1 * ((r == 3) | (r == 4)) \\\n",
    "    + 1 * ((r == 7) | (r == 8)) \\\n",
    "    + 2 * (r >= 9)\n",
    "test_data[\"label\"] = test_labels\n",
    "\n",
    "train_data.head()"
   ]
  },
  {
   "cell_type": "code",
   "execution_count": 5,
   "metadata": {},
   "outputs": [
    {
     "data": {
      "text/plain": [
       "array([[<matplotlib.axes._subplots.AxesSubplot object at 0x000001E3EF353710>]],\n",
       "      dtype=object)"
      ]
     },
     "execution_count": 5,
     "metadata": {},
     "output_type": "execute_result"
    },
    {
     "data": {
      "image/png": "[encoded data removed]",
      "text/plain": [
       "<Figure size 432x288 with 1 Axes>"
      ]
     },
     "metadata": {
      "needs_background": "light"
     },
     "output_type": "display_data"
    }
   ],
   "source": [
    "train_data.hist(column = \"label\", bins = np.arange(-2, 3))"
   ]
  },
  {
   "cell_type": "code",
   "execution_count": 6,
   "metadata": {},
   "outputs": [],
   "source": [
    "# Convert the labels to categorical\n",
    "train_cat_labels = to_categorical(train_labels, num_classes = 5)\n",
    "test_cat_labels = to_categorical(test_labels, num_classes = 5)"
   ]
  },
  {
   "cell_type": "markdown",
   "metadata": {},
   "source": [
    "#### Compute class weights"
   ]
  },
  {
   "cell_type": "code",
   "execution_count": 14,
   "metadata": {},
   "outputs": [
    {
     "data": {
      "text/plain": [
       "array([1.12992644, 2.79908026, 2.24710226, 1.13805828, 0.4108431 ])"
      ]
     },
     "execution_count": 14,
     "metadata": {},
     "output_type": "execute_result"
    }
   ],
   "source": [
    "class_weights_cmp = compute_class_weight(\"balanced\", [-2, -1, 0, 1, 2], train_labels)\n",
    "class_weights_cmp"
   ]
  },
  {
   "cell_type": "code",
   "execution_count": 38,
   "metadata": {},
   "outputs": [],
   "source": [
    "# Categorical convert put the labels in the range 0-4\n",
    "class_weight = {0: class_weights_cmp[0],\n",
    "                1: class_weights_cmp[1],\n",
    "                2: class_weights_cmp[2],\n",
    "                3: class_weights_cmp[3],\n",
    "                4: class_weights_cmp[4]}"
   ]
  },
  {
   "cell_type": "markdown",
   "metadata": {},
   "source": [
    "#### Convert reviews to padded sequences"
   ]
  },
  {
   "cell_type": "code",
   "execution_count": 16,
   "metadata": {},
   "outputs": [
    {
     "data": {
      "text/plain": [
       "count    161297.000000\n",
       "mean        458.726238\n",
       "std         242.130235\n",
       "min           3.000000\n",
       "25%         262.000000\n",
       "50%         455.000000\n",
       "75%         691.000000\n",
       "max       10787.000000\n",
       "Name: review, dtype: float64"
      ]
     },
     "execution_count": 16,
     "metadata": {},
     "output_type": "execute_result"
    }
   ],
   "source": [
    "lengths = train_data[\"review\"].map(str).apply(len)\n",
    "lengths.describe()"
   ]
  },
  {
   "cell_type": "code",
   "execution_count": 11,
   "metadata": {},
   "outputs": [
    {
     "name": "stdout",
     "output_type": "stream",
     "text": [
      "Shape of the training data: (161297, 500)\n",
      "Shape of the training labels: (161297, 5)\n"
     ]
    }
   ],
   "source": [
    "n_words = 1000\n",
    "\n",
    "# The mean of the training set reviews's lengths is about 460.\n",
    "review_max_len = 500\n",
    "\n",
    "# Convert training data to padded sequences\n",
    "train_reviews = train_data[\"review\"]\n",
    "tokenizer = Tokenizer(n_words)\n",
    "tokenizer.fit_on_texts(train_reviews)\n",
    "train_sequences = tokenizer.texts_to_sequences(train_reviews)\n",
    "x_train = pad_sequences(train_sequences, maxlen = review_max_len)\n",
    "\n",
    "# Convert test data to padded sequences\n",
    "test_reviews = test_data[\"review\"]\n",
    "tokenizer = Tokenizer(n_words)\n",
    "tokenizer.fit_on_texts(train_reviews)\n",
    "test_sequences = tokenizer.texts_to_sequences(test_reviews)\n",
    "x_test = pad_sequences(test_sequences, maxlen = review_max_len)\n",
    "\n",
    "print(\"Shape of the training data: \", end=\"\")\n",
    "print(x_train.shape)\n",
    "print(\"Shape of the training labels: \", end=\"\")\n",
    "print(train_cat_labels.shape)"
   ]
  },
  {
   "cell_type": "markdown",
   "metadata": {},
   "source": [
    "## Helper functions"
   ]
  },
  {
   "cell_type": "code",
   "execution_count": 18,
   "metadata": {},
   "outputs": [],
   "source": [
    "def plot_history(history):\n",
    "    f, ax = plt.subplots(1, 2, figsize = (16, 7))\n",
    "    \n",
    "    acc = history.history['acc']\n",
    "    val_acc = history.history['val_acc']\n",
    "    loss = history.history['loss']\n",
    "    val_loss = history.history['val_loss']\n",
    "\n",
    "    epochs = range(1, len(acc) + 1)\n",
    "\n",
    "    plt.sca(ax[0])\n",
    "    plt.plot(epochs, acc, 'bo', label='Training acc')\n",
    "    plt.plot(epochs, val_acc, 'b', label='Validation acc')\n",
    "    plt.title('Training and validation accuracy')\n",
    "    plt.legend()\n",
    "\n",
    "    plt.sca(ax[1])\n",
    "    plt.plot(epochs, loss, 'bo', label='Training loss')\n",
    "    plt.plot(epochs, val_loss, 'b', label='Validation loss')\n",
    "    plt.title('Training and validation loss')\n",
    "    plt.legend()\n",
    "\n",
    "    plt.show()\n",
    "\n",
    "def train_model(model, x, y, e = 10, bs = 32, v = 1, vs = 0.25, cv = None):\n",
    "    h = model.fit(x,\n",
    "                  y,\n",
    "                  epochs = e,\n",
    "                  batch_size = bs,\n",
    "                  verbose = v,\n",
    "                  validation_split = vs,\n",
    "                  class_weight = cv)\n",
    "    return h"
   ]
  },
  {
   "cell_type": "markdown",
   "metadata": {},
   "source": [
    "## Model 1: Modeling and compilation\n",
    "According to the [notebook by Sakari Lukkarinen](https://github.com/sakluk/cognitive-systems-for-health-technology/blob/master/Week%207.%20embedding-lstm-gru-and-conv1d.ipynb), a network with an embedding layer, GRU(s), and dropout(s) seems to yield promising results, so that approach is used."
   ]
  },
  {
   "cell_type": "code",
   "execution_count": 55,
   "metadata": {},
   "outputs": [
    {
     "name": "stdout",
     "output_type": "stream",
     "text": [
      "_________________________________________________________________\n",
      "Layer (type)                 Output Shape              Param #   \n",
      "=================================================================\n",
      "embedding_3 (Embedding)      (None, 500, 24)           24000     \n",
      "_________________________________________________________________\n",
      "gru_5 (GRU)                  (None, 500, 12)           1332      \n",
      "_________________________________________________________________\n",
      "gru_6 (GRU)                  (None, 12)                900       \n",
      "_________________________________________________________________\n",
      "dense_2 (Dense)              (None, 5)                 65        \n",
      "=================================================================\n",
      "Total params: 26,297\n",
      "Trainable params: 26,297\n",
      "Non-trainable params: 0\n",
      "_________________________________________________________________\n"
     ]
    }
   ],
   "source": [
    "m1 = Sequential()\n",
    "m1.add(Embedding(n_words, 24, input_length = review_max_len))\n",
    "m1.add(GRU(12, dropout = 0.1, recurrent_dropout = 0.1, return_sequences = True))\n",
    "m1.add(GRU(12, dropout = 0.1, recurrent_dropout = 0.1))\n",
    "m1.add(Dense(5, activation = \"softmax\"))\n",
    "m1.compile(optimizer = \"adam\", loss = \"categorical_crossentropy\", metrics = [\"acc\"])\n",
    "m1.summary()"
   ]
  },
  {
   "cell_type": "markdown",
   "metadata": {},
   "source": [
    "## Model 1: Training"
   ]
  },
  {
   "cell_type": "code",
   "execution_count": 56,
   "metadata": {
    "scrolled": false
   },
   "outputs": [
    {
     "name": "stdout",
     "output_type": "stream",
     "text": [
      "Train on 120972 samples, validate on 40325 samples\n",
      "Epoch 1/10\n",
      "120972/120972 [==============================] - 1015s 8ms/step - loss: 1.1639 - acc: 0.5597 - val_loss: 1.0621 - val_acc: 0.5913\n",
      "Epoch 2/10\n",
      "120972/120972 [==============================] - 1006s 8ms/step - loss: 1.0422 - acc: 0.5974 - val_loss: 1.0037 - val_acc: 0.6111\n",
      "Epoch 3/10\n",
      "120972/120972 [==============================] - 1034s 9ms/step - loss: 1.0077 - acc: 0.6080 - val_loss: 0.9802 - val_acc: 0.6175\n",
      "Epoch 4/10\n",
      "120972/120972 [==============================] - 1041s 9ms/step - loss: 0.9854 - acc: 0.6158 - val_loss: 0.9660 - val_acc: 0.6242\n",
      "Epoch 5/10\n",
      "120972/120972 [==============================] - 1075s 9ms/step - loss: 0.9681 - acc: 0.6223 - val_loss: 0.9556 - val_acc: 0.6283\n",
      "Epoch 6/10\n",
      "120972/120972 [==============================] - 1038s 9ms/step - loss: 0.9563 - acc: 0.6260 - val_loss: 0.9536 - val_acc: 0.6277\n",
      "Epoch 7/10\n",
      "120972/120972 [==============================] - 1042s 9ms/step - loss: 0.9465 - acc: 0.6296 - val_loss: 0.9417 - val_acc: 0.6342\n",
      "Epoch 8/10\n",
      "120972/120972 [==============================] - 1043s 9ms/step - loss: 0.9371 - acc: 0.6341 - val_loss: 0.9337 - val_acc: 0.6353\n",
      "Epoch 9/10\n",
      "120972/120972 [==============================] - 1028s 8ms/step - loss: 0.9286 - acc: 0.6365 - val_loss: 0.9299 - val_acc: 0.6379\n",
      "Epoch 10/10\n",
      "120972/120972 [==============================] - 1027s 8ms/step - loss: 0.9221 - acc: 0.6389 - val_loss: 0.9256 - val_acc: 0.6395\n"
     ]
    },
    {
     "data": {
      "image/png": "[encoded data removed]",
      "text/plain": [
       "<Figure size 1152x504 with 2 Axes>"
      ]
     },
     "metadata": {
      "needs_background": "light"
     },
     "output_type": "display_data"
    }
   ],
   "source": [
    "h1 = train_model(m1, x_train, train_cat_labels)\n",
    "plot_history(h1)"
   ]
  },
  {
   "cell_type": "code",
   "execution_count": 57,
   "metadata": {},
   "outputs": [],
   "source": [
    "m1.save(\"m1.h5\")"
   ]
  },
  {
   "cell_type": "markdown",
   "metadata": {},
   "source": [
    "## Model 1: Results\n",
    "Model 1 was trained for 10 epochs. It didn't manage to learn enough of the data during training, as can be seen from the graphs. Both the training and validation accuracies increase every epoch, and the trend would seem to indicate that they would have continued to increase if the training would have been continued longer.\n",
    "\n",
    "## Model 2: Modeling and compilation\n",
    "For the next model, the embedding dimension is increased from 24 to 32. The rest of the model remains the same."
   ]
  },
  {
   "cell_type": "code",
   "execution_count": 58,
   "metadata": {
    "scrolled": true
   },
   "outputs": [
    {
     "name": "stdout",
     "output_type": "stream",
     "text": [
      "_________________________________________________________________\n",
      "Layer (type)                 Output Shape              Param #   \n",
      "=================================================================\n",
      "embedding_4 (Embedding)      (None, 500, 32)           32000     \n",
      "_________________________________________________________________\n",
      "gru_7 (GRU)                  (None, 500, 12)           1620      \n",
      "_________________________________________________________________\n",
      "gru_8 (GRU)                  (None, 12)                900       \n",
      "_________________________________________________________________\n",
      "dense_3 (Dense)              (None, 5)                 65        \n",
      "=================================================================\n",
      "Total params: 34,585\n",
      "Trainable params: 34,585\n",
      "Non-trainable params: 0\n",
      "_________________________________________________________________\n"
     ]
    }
   ],
   "source": [
    "m2 = Sequential()\n",
    "m2.add(Embedding(n_words, 32, input_length = review_max_len))\n",
    "m2.add(GRU(12, dropout = 0.1, recurrent_dropout = 0.1, return_sequences = True))\n",
    "m2.add(GRU(12, dropout = 0.1, recurrent_dropout = 0.1))\n",
    "m2.add(Dense(5, activation = \"softmax\"))\n",
    "m2.compile(optimizer = \"adam\", loss = \"categorical_crossentropy\", metrics = [\"acc\"])\n",
    "m2.summary()"
   ]
  },
  {
   "cell_type": "markdown",
   "metadata": {},
   "source": [
    "## Model 2: Training\n",
    "The second model is trained for more epochs (25 instead of 10), and batch size is also increased from 32 to 56."
   ]
  },
  {
   "cell_type": "code",
   "execution_count": 61,
   "metadata": {
    "scrolled": false
   },
   "outputs": [
    {
     "data": {
      "image/png": "[encoded data removed]",
      "text/plain": [
       "<Figure size 1152x504 with 2 Axes>"
      ]
     },
     "metadata": {
      "needs_background": "light"
     },
     "output_type": "display_data"
    }
   ],
   "source": [
    "h2 = train_model(m2, x_train, train_cat_labels, e = 25, bs = 56)\n",
    "plot_history(h2)"
   ]
  },
  {
   "cell_type": "code",
   "execution_count": 62,
   "metadata": {},
   "outputs": [],
   "source": [
    "m2.save(\"m2.h5\")"
   ]
  },
  {
   "cell_type": "markdown",
   "metadata": {},
   "source": [
    "## Model 2: Results\n",
    "Not much better than model 1. Some overfitting is visible from epoch 11 onwards.\n",
    "\n",
    "## Model 3: Modeling and compilation\n",
    "The network structure will be kept the same."
   ]
  },
  {
   "cell_type": "code",
   "execution_count": 43,
   "metadata": {
    "scrolled": true
   },
   "outputs": [
    {
     "name": "stdout",
     "output_type": "stream",
     "text": [
      "_________________________________________________________________\n",
      "Layer (type)                 Output Shape              Param #   \n",
      "=================================================================\n",
      "embedding_11 (Embedding)     (None, 700, 32)           32000     \n",
      "_________________________________________________________________\n",
      "gru_9 (GRU)                  (None, 700, 12)           1620      \n",
      "_________________________________________________________________\n",
      "gru_10 (GRU)                 (None, 12)                900       \n",
      "_________________________________________________________________\n",
      "dense_8 (Dense)              (None, 5)                 65        \n",
      "=================================================================\n",
      "Total params: 34,585\n",
      "Trainable params: 34,585\n",
      "Non-trainable params: 0\n",
      "_________________________________________________________________\n"
     ]
    }
   ],
   "source": [
    "m3 = Sequential()\n",
    "m3.add(Embedding(n_words, 32, input_length = review_max_len))\n",
    "m3.add(GRU(12, dropout = 0.1, recurrent_dropout = 0.1, return_sequences = True))\n",
    "m3.add(GRU(12, dropout = 0.1, recurrent_dropout = 0.1))\n",
    "m3.add(Dense(5, activation = \"softmax\"))\n",
    "m3.compile(optimizer = \"adam\", loss = \"categorical_crossentropy\", metrics = [\"acc\"])\n",
    "m3.summary()"
   ]
  },
  {
   "cell_type": "markdown",
   "metadata": {},
   "source": [
    "## Model 3: Training\n",
    "Class weights are added, and epochs lowered to 15."
   ]
  },
  {
   "cell_type": "code",
   "execution_count": 44,
   "metadata": {
    "scrolled": false
   },
   "outputs": [
    {
     "name": "stdout",
     "output_type": "stream",
     "text": [
      "Train on 120972 samples, validate on 40325 samples\n",
      "Epoch 1/15\n",
      "120972/120972 [==============================] - 888s 7ms/step - loss: 1.9249 - acc: 0.5428 - val_loss: 1.7424 - val_acc: 0.5835\n",
      "Epoch 2/15\n",
      "120972/120972 [==============================] - 873s 7ms/step - loss: 1.7068 - acc: 0.5856 - val_loss: 1.6327 - val_acc: 0.5973\n",
      "Epoch 3/15\n",
      "120972/120972 [==============================] - 865s 7ms/step - loss: 1.6421 - acc: 0.5986 - val_loss: 1.6054 - val_acc: 0.6063\n",
      "Epoch 4/15\n",
      "120972/120972 [==============================] - 866s 7ms/step - loss: 1.6088 - acc: 0.6058 - val_loss: 1.5847 - val_acc: 0.6123\n",
      "Epoch 5/15\n",
      "120972/120972 [==============================] - 888s 7ms/step - loss: 1.5810 - acc: 0.6123 - val_loss: 1.5751 - val_acc: 0.6045\n",
      "Epoch 6/15\n",
      "120972/120972 [==============================] - 908s 8ms/step - loss: 1.5603 - acc: 0.6175 - val_loss: 1.5504 - val_acc: 0.6161\n",
      "Epoch 7/15\n",
      "120972/120972 [==============================] - 928s 8ms/step - loss: 1.5442 - acc: 0.6206 - val_loss: 1.5444 - val_acc: 0.6171\n",
      "Epoch 8/15\n",
      "120972/120972 [==============================] - 889s 7ms/step - loss: 1.5303 - acc: 0.6241 - val_loss: 1.5375 - val_acc: 0.6233\n",
      "Epoch 9/15\n",
      "120972/120972 [==============================] - 863s 7ms/step - loss: 1.5182 - acc: 0.6265 - val_loss: 1.5337 - val_acc: 0.6271\n",
      "Epoch 10/15\n",
      "120972/120972 [==============================] - 862s 7ms/step - loss: 1.5033 - acc: 0.6308 - val_loss: 1.5270 - val_acc: 0.6256\n",
      "Epoch 11/15\n",
      "120972/120972 [==============================] - 862s 7ms/step - loss: 1.4940 - acc: 0.6319 - val_loss: 1.5231 - val_acc: 0.6224\n",
      "Epoch 12/15\n",
      "120972/120972 [==============================] - 878s 7ms/step - loss: 1.4833 - acc: 0.6359 - val_loss: 1.5158 - val_acc: 0.6260\n",
      "Epoch 13/15\n",
      "120972/120972 [==============================] - 862s 7ms/step - loss: 1.4748 - acc: 0.6368 - val_loss: 1.5169 - val_acc: 0.6228\n",
      "Epoch 14/15\n",
      "120972/120972 [==============================] - 863s 7ms/step - loss: 1.4677 - acc: 0.6382 - val_loss: 1.5182 - val_acc: 0.6235\n",
      "Epoch 15/15\n",
      "120972/120972 [==============================] - 861s 7ms/step - loss: 1.4609 - acc: 0.6395 - val_loss: 1.5107 - val_acc: 0.6304\n"
     ]
    },
    {
     "data": {
      "image/png": "[encoded data removed]",
      "text/plain": [
       "<Figure size 1152x504 with 2 Axes>"
      ]
     },
     "metadata": {
      "needs_background": "light"
     },
     "output_type": "display_data"
    }
   ],
   "source": [
    "h3 = train_model(m3, x_train, train_cat_labels, e = 15, bs = 56, cv = class_weight)\n",
    "plot_history(h3)"
   ]
  },
  {
   "cell_type": "markdown",
   "metadata": {},
   "source": [
    "## Other models\n",
    "I also experimented with other network structures, however they did not fare any better than these previous models. I tried mixed GRU/Conv1D, and tweaked many of the network parameters."
   ]
  },
  {
   "cell_type": "markdown",
   "metadata": {},
   "source": [
    "## Test the best model\n",
    "Model 2 seems to achieve the best validation accuracy, even though some overfitting is visible.\n",
    "The final step is to test this model with the reserved test set."
   ]
  },
  {
   "cell_type": "code",
   "execution_count": 76,
   "metadata": {},
   "outputs": [],
   "source": [
    "# Load model #2 and predict values using it\n",
    "model = load_model(\"m2.h5\")\n",
    "y_pred = model.predict(x_test)"
   ]
  },
  {
   "cell_type": "code",
   "execution_count": 92,
   "metadata": {},
   "outputs": [
    {
     "name": "stdout",
     "output_type": "stream",
     "text": [
      "Test set confusion matrix:\n",
      "[[ 1079  1164  1363  1028   195]\n",
      " [  624  2234  5792   555    42]\n",
      " [  294  1387 23731   749    32]\n",
      " [  592   283  1164  7390   204]\n",
      " [  808   452   662  1750   192]]\n",
      "\n",
      "Test set classification report:\n",
      "              precision    recall  f1-score   support\n",
      "\n",
      "           0       0.32      0.22      0.26      4829\n",
      "           1       0.40      0.24      0.30      9247\n",
      "           2       0.73      0.91      0.81     26193\n",
      "           3       0.64      0.77      0.70      9633\n",
      "           4       0.29      0.05      0.08      3864\n",
      "\n",
      "   micro avg       0.64      0.64      0.64     53766\n",
      "   macro avg       0.48      0.44      0.43     53766\n",
      "weighted avg       0.59      0.64      0.60     53766\n",
      "\n",
      "\n",
      "Test set accuracy score:\n",
      "0.6440129449838188\n"
     ]
    }
   ],
   "source": [
    "# Convert probabilities to discrete values\n",
    "y_max = np.argmax(y_pred, axis=1)\n",
    "\n",
    "y_true = np.argmax(test_cat_labels, axis=1)\n",
    "\n",
    "cm = confusion_matrix(y_true, y_max)\n",
    "cr = classification_report(y_true, y_max)\n",
    "a = accuracy_score(y_true, y_max)\n",
    "print(\"Test set confusion matrix:\")\n",
    "print(cm)\n",
    "print(\"\\nTest set classification report:\")\n",
    "print(cr)\n",
    "print(\"\\nTest set accuracy score:\")\n",
    "print(a)"
   ]
  },
  {
   "cell_type": "markdown",
   "metadata": {},
   "source": [
    "Test set accuracy reached about the same accuracy, as the validation during training. The accuracy is not very high. It would probably be higher, if the number of predictable classes would be reduced to for example 3 classes (negative, neutral, positive). Some also say that recurrent neural networks are mode suitable for more complex cases, for example translations, and that for this type of sentiment analysis, classical machine learning methods would be more applicable."
   ]
  }
 ],
 "metadata": {
  "kernelspec": {
   "display_name": "Python 3",
   "language": "python",
   "name": "python3"
  },
  "language_info": {
   "codemirror_mode": {
    "name": "ipython",
    "version": 3
   },
   "file_extension": ".py",
   "mimetype": "text/x-python",
   "name": "python",
   "nbconvert_exporter": "python",
   "pygments_lexer": "ipython3",
   "version": "3.6.7"
  }
 },
 "nbformat": 4,
 "nbformat_minor": 2
}
